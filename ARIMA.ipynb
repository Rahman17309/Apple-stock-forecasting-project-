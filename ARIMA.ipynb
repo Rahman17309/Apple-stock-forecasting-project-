{
 "cells": [
  {
   "cell_type": "markdown",
   "metadata": {},
   "source": [
    "## ARIMA Implementation"
   ]
  },
  {
   "cell_type": "code",
   "execution_count": 129,
   "metadata": {},
   "outputs": [],
   "source": [
    "import pandas as pd\n",
    "import warnings\n",
    "warnings.filterwarnings('ignore')"
   ]
  },
  {
   "cell_type": "code",
   "execution_count": 130,
   "metadata": {},
   "outputs": [
    {
     "data": {
      "text/html": [
       "<div>\n",
       "<style scoped>\n",
       "    .dataframe tbody tr th:only-of-type {\n",
       "        vertical-align: middle;\n",
       "    }\n",
       "\n",
       "    .dataframe tbody tr th {\n",
       "        vertical-align: top;\n",
       "    }\n",
       "\n",
       "    .dataframe thead th {\n",
       "        text-align: right;\n",
       "    }\n",
       "</style>\n",
       "<table border=\"1\" class=\"dataframe\">\n",
       "  <thead>\n",
       "    <tr style=\"text-align: right;\">\n",
       "      <th></th>\n",
       "      <th>Date</th>\n",
       "      <th>Open</th>\n",
       "      <th>High</th>\n",
       "      <th>Low</th>\n",
       "      <th>Close</th>\n",
       "      <th>Adj Close</th>\n",
       "      <th>Volume</th>\n",
       "    </tr>\n",
       "  </thead>\n",
       "  <tbody>\n",
       "    <tr>\n",
       "      <th>0</th>\n",
       "      <td>03-01-2012</td>\n",
       "      <td>58.485714</td>\n",
       "      <td>58.928570</td>\n",
       "      <td>58.428570</td>\n",
       "      <td>58.747143</td>\n",
       "      <td>50.765709</td>\n",
       "      <td>75555200</td>\n",
       "    </tr>\n",
       "    <tr>\n",
       "      <th>1</th>\n",
       "      <td>04-01-2012</td>\n",
       "      <td>58.571430</td>\n",
       "      <td>59.240002</td>\n",
       "      <td>58.468571</td>\n",
       "      <td>59.062859</td>\n",
       "      <td>51.038536</td>\n",
       "      <td>65005500</td>\n",
       "    </tr>\n",
       "    <tr>\n",
       "      <th>2</th>\n",
       "      <td>05-01-2012</td>\n",
       "      <td>59.278572</td>\n",
       "      <td>59.792858</td>\n",
       "      <td>58.952858</td>\n",
       "      <td>59.718571</td>\n",
       "      <td>51.605175</td>\n",
       "      <td>67817400</td>\n",
       "    </tr>\n",
       "    <tr>\n",
       "      <th>3</th>\n",
       "      <td>06-01-2012</td>\n",
       "      <td>59.967144</td>\n",
       "      <td>60.392857</td>\n",
       "      <td>59.888573</td>\n",
       "      <td>60.342857</td>\n",
       "      <td>52.144630</td>\n",
       "      <td>79573200</td>\n",
       "    </tr>\n",
       "    <tr>\n",
       "      <th>4</th>\n",
       "      <td>09-01-2012</td>\n",
       "      <td>60.785713</td>\n",
       "      <td>61.107143</td>\n",
       "      <td>60.192856</td>\n",
       "      <td>60.247143</td>\n",
       "      <td>52.061932</td>\n",
       "      <td>98506100</td>\n",
       "    </tr>\n",
       "    <tr>\n",
       "      <th>...</th>\n",
       "      <td>...</td>\n",
       "      <td>...</td>\n",
       "      <td>...</td>\n",
       "      <td>...</td>\n",
       "      <td>...</td>\n",
       "      <td>...</td>\n",
       "      <td>...</td>\n",
       "    </tr>\n",
       "    <tr>\n",
       "      <th>2006</th>\n",
       "      <td>23-12-2019</td>\n",
       "      <td>280.529999</td>\n",
       "      <td>284.250000</td>\n",
       "      <td>280.369995</td>\n",
       "      <td>284.000000</td>\n",
       "      <td>282.054138</td>\n",
       "      <td>24643000</td>\n",
       "    </tr>\n",
       "    <tr>\n",
       "      <th>2007</th>\n",
       "      <td>24-12-2019</td>\n",
       "      <td>284.690002</td>\n",
       "      <td>284.890015</td>\n",
       "      <td>282.920013</td>\n",
       "      <td>284.269989</td>\n",
       "      <td>282.322266</td>\n",
       "      <td>12119700</td>\n",
       "    </tr>\n",
       "    <tr>\n",
       "      <th>2008</th>\n",
       "      <td>26-12-2019</td>\n",
       "      <td>284.820007</td>\n",
       "      <td>289.980011</td>\n",
       "      <td>284.700012</td>\n",
       "      <td>289.910004</td>\n",
       "      <td>287.923645</td>\n",
       "      <td>23280300</td>\n",
       "    </tr>\n",
       "    <tr>\n",
       "      <th>2009</th>\n",
       "      <td>27-12-2019</td>\n",
       "      <td>291.119995</td>\n",
       "      <td>293.970001</td>\n",
       "      <td>288.119995</td>\n",
       "      <td>289.799988</td>\n",
       "      <td>287.814392</td>\n",
       "      <td>36566500</td>\n",
       "    </tr>\n",
       "    <tr>\n",
       "      <th>2010</th>\n",
       "      <td>30-12-2019</td>\n",
       "      <td>289.459991</td>\n",
       "      <td>292.690002</td>\n",
       "      <td>285.220001</td>\n",
       "      <td>291.519989</td>\n",
       "      <td>289.522614</td>\n",
       "      <td>36028600</td>\n",
       "    </tr>\n",
       "  </tbody>\n",
       "</table>\n",
       "<p>2011 rows × 7 columns</p>\n",
       "</div>"
      ],
      "text/plain": [
       "            Date        Open        High         Low       Close   Adj Close  \\\n",
       "0     03-01-2012   58.485714   58.928570   58.428570   58.747143   50.765709   \n",
       "1     04-01-2012   58.571430   59.240002   58.468571   59.062859   51.038536   \n",
       "2     05-01-2012   59.278572   59.792858   58.952858   59.718571   51.605175   \n",
       "3     06-01-2012   59.967144   60.392857   59.888573   60.342857   52.144630   \n",
       "4     09-01-2012   60.785713   61.107143   60.192856   60.247143   52.061932   \n",
       "...          ...         ...         ...         ...         ...         ...   \n",
       "2006  23-12-2019  280.529999  284.250000  280.369995  284.000000  282.054138   \n",
       "2007  24-12-2019  284.690002  284.890015  282.920013  284.269989  282.322266   \n",
       "2008  26-12-2019  284.820007  289.980011  284.700012  289.910004  287.923645   \n",
       "2009  27-12-2019  291.119995  293.970001  288.119995  289.799988  287.814392   \n",
       "2010  30-12-2019  289.459991  292.690002  285.220001  291.519989  289.522614   \n",
       "\n",
       "        Volume  \n",
       "0     75555200  \n",
       "1     65005500  \n",
       "2     67817400  \n",
       "3     79573200  \n",
       "4     98506100  \n",
       "...        ...  \n",
       "2006  24643000  \n",
       "2007  12119700  \n",
       "2008  23280300  \n",
       "2009  36566500  \n",
       "2010  36028600  \n",
       "\n",
       "[2011 rows x 7 columns]"
      ]
     },
     "execution_count": 130,
     "metadata": {},
     "output_type": "execute_result"
    }
   ],
   "source": [
    "df = pd.read_csv('../data/AAPL.csv')\n",
    "df"
   ]
  },
  {
   "cell_type": "markdown",
   "metadata": {},
   "source": [
    "### Data Preprocessing"
   ]
  },
  {
   "cell_type": "code",
   "execution_count": 131,
   "metadata": {},
   "outputs": [
    {
     "data": {
      "text/html": [
       "<div>\n",
       "<style scoped>\n",
       "    .dataframe tbody tr th:only-of-type {\n",
       "        vertical-align: middle;\n",
       "    }\n",
       "\n",
       "    .dataframe tbody tr th {\n",
       "        vertical-align: top;\n",
       "    }\n",
       "\n",
       "    .dataframe thead th {\n",
       "        text-align: right;\n",
       "    }\n",
       "</style>\n",
       "<table border=\"1\" class=\"dataframe\">\n",
       "  <thead>\n",
       "    <tr style=\"text-align: right;\">\n",
       "      <th></th>\n",
       "      <th>Date</th>\n",
       "      <th>Open</th>\n",
       "      <th>High</th>\n",
       "      <th>Low</th>\n",
       "      <th>Close</th>\n",
       "      <th>Adj Close</th>\n",
       "      <th>Volume</th>\n",
       "    </tr>\n",
       "  </thead>\n",
       "  <tbody>\n",
       "    <tr>\n",
       "      <th>0</th>\n",
       "      <td>2012-01-03</td>\n",
       "      <td>58.485714</td>\n",
       "      <td>58.928570</td>\n",
       "      <td>58.428570</td>\n",
       "      <td>58.747143</td>\n",
       "      <td>50.765709</td>\n",
       "      <td>75555200</td>\n",
       "    </tr>\n",
       "    <tr>\n",
       "      <th>1</th>\n",
       "      <td>2012-01-04</td>\n",
       "      <td>58.571430</td>\n",
       "      <td>59.240002</td>\n",
       "      <td>58.468571</td>\n",
       "      <td>59.062859</td>\n",
       "      <td>51.038536</td>\n",
       "      <td>65005500</td>\n",
       "    </tr>\n",
       "    <tr>\n",
       "      <th>2</th>\n",
       "      <td>2012-01-05</td>\n",
       "      <td>59.278572</td>\n",
       "      <td>59.792858</td>\n",
       "      <td>58.952858</td>\n",
       "      <td>59.718571</td>\n",
       "      <td>51.605175</td>\n",
       "      <td>67817400</td>\n",
       "    </tr>\n",
       "    <tr>\n",
       "      <th>3</th>\n",
       "      <td>2012-01-06</td>\n",
       "      <td>59.967144</td>\n",
       "      <td>60.392857</td>\n",
       "      <td>59.888573</td>\n",
       "      <td>60.342857</td>\n",
       "      <td>52.144630</td>\n",
       "      <td>79573200</td>\n",
       "    </tr>\n",
       "    <tr>\n",
       "      <th>4</th>\n",
       "      <td>2012-01-09</td>\n",
       "      <td>60.785713</td>\n",
       "      <td>61.107143</td>\n",
       "      <td>60.192856</td>\n",
       "      <td>60.247143</td>\n",
       "      <td>52.061932</td>\n",
       "      <td>98506100</td>\n",
       "    </tr>\n",
       "  </tbody>\n",
       "</table>\n",
       "</div>"
      ],
      "text/plain": [
       "        Date       Open       High        Low      Close  Adj Close    Volume\n",
       "0 2012-01-03  58.485714  58.928570  58.428570  58.747143  50.765709  75555200\n",
       "1 2012-01-04  58.571430  59.240002  58.468571  59.062859  51.038536  65005500\n",
       "2 2012-01-05  59.278572  59.792858  58.952858  59.718571  51.605175  67817400\n",
       "3 2012-01-06  59.967144  60.392857  59.888573  60.342857  52.144630  79573200\n",
       "4 2012-01-09  60.785713  61.107143  60.192856  60.247143  52.061932  98506100"
      ]
     },
     "execution_count": 131,
     "metadata": {},
     "output_type": "execute_result"
    }
   ],
   "source": [
    "# Converting Date Column to DateTime Format\n",
    "df['Date'] = pd.to_datetime(df['Date'], format='%d-%m-%Y')\n",
    "df.head()"
   ]
  },
  {
   "cell_type": "code",
   "execution_count": 132,
   "metadata": {},
   "outputs": [
    {
     "data": {
      "text/html": [
       "<div>\n",
       "<style scoped>\n",
       "    .dataframe tbody tr th:only-of-type {\n",
       "        vertical-align: middle;\n",
       "    }\n",
       "\n",
       "    .dataframe tbody tr th {\n",
       "        vertical-align: top;\n",
       "    }\n",
       "\n",
       "    .dataframe thead th {\n",
       "        text-align: right;\n",
       "    }\n",
       "</style>\n",
       "<table border=\"1\" class=\"dataframe\">\n",
       "  <thead>\n",
       "    <tr style=\"text-align: right;\">\n",
       "      <th></th>\n",
       "      <th>Open</th>\n",
       "      <th>High</th>\n",
       "      <th>Low</th>\n",
       "      <th>Close</th>\n",
       "      <th>Adj Close</th>\n",
       "      <th>Volume</th>\n",
       "    </tr>\n",
       "  </thead>\n",
       "  <tbody>\n",
       "    <tr>\n",
       "      <th>2012-01-03</th>\n",
       "      <td>58.485714</td>\n",
       "      <td>58.928570</td>\n",
       "      <td>58.428570</td>\n",
       "      <td>58.747143</td>\n",
       "      <td>50.765709</td>\n",
       "      <td>75555200</td>\n",
       "    </tr>\n",
       "    <tr>\n",
       "      <th>2012-01-04</th>\n",
       "      <td>58.571430</td>\n",
       "      <td>59.240002</td>\n",
       "      <td>58.468571</td>\n",
       "      <td>59.062859</td>\n",
       "      <td>51.038536</td>\n",
       "      <td>65005500</td>\n",
       "    </tr>\n",
       "    <tr>\n",
       "      <th>2012-01-05</th>\n",
       "      <td>59.278572</td>\n",
       "      <td>59.792858</td>\n",
       "      <td>58.952858</td>\n",
       "      <td>59.718571</td>\n",
       "      <td>51.605175</td>\n",
       "      <td>67817400</td>\n",
       "    </tr>\n",
       "    <tr>\n",
       "      <th>2012-01-06</th>\n",
       "      <td>59.967144</td>\n",
       "      <td>60.392857</td>\n",
       "      <td>59.888573</td>\n",
       "      <td>60.342857</td>\n",
       "      <td>52.144630</td>\n",
       "      <td>79573200</td>\n",
       "    </tr>\n",
       "    <tr>\n",
       "      <th>2012-01-09</th>\n",
       "      <td>60.785713</td>\n",
       "      <td>61.107143</td>\n",
       "      <td>60.192856</td>\n",
       "      <td>60.247143</td>\n",
       "      <td>52.061932</td>\n",
       "      <td>98506100</td>\n",
       "    </tr>\n",
       "    <tr>\n",
       "      <th>...</th>\n",
       "      <td>...</td>\n",
       "      <td>...</td>\n",
       "      <td>...</td>\n",
       "      <td>...</td>\n",
       "      <td>...</td>\n",
       "      <td>...</td>\n",
       "    </tr>\n",
       "    <tr>\n",
       "      <th>2019-12-23</th>\n",
       "      <td>280.529999</td>\n",
       "      <td>284.250000</td>\n",
       "      <td>280.369995</td>\n",
       "      <td>284.000000</td>\n",
       "      <td>282.054138</td>\n",
       "      <td>24643000</td>\n",
       "    </tr>\n",
       "    <tr>\n",
       "      <th>2019-12-24</th>\n",
       "      <td>284.690002</td>\n",
       "      <td>284.890015</td>\n",
       "      <td>282.920013</td>\n",
       "      <td>284.269989</td>\n",
       "      <td>282.322266</td>\n",
       "      <td>12119700</td>\n",
       "    </tr>\n",
       "    <tr>\n",
       "      <th>2019-12-26</th>\n",
       "      <td>284.820007</td>\n",
       "      <td>289.980011</td>\n",
       "      <td>284.700012</td>\n",
       "      <td>289.910004</td>\n",
       "      <td>287.923645</td>\n",
       "      <td>23280300</td>\n",
       "    </tr>\n",
       "    <tr>\n",
       "      <th>2019-12-27</th>\n",
       "      <td>291.119995</td>\n",
       "      <td>293.970001</td>\n",
       "      <td>288.119995</td>\n",
       "      <td>289.799988</td>\n",
       "      <td>287.814392</td>\n",
       "      <td>36566500</td>\n",
       "    </tr>\n",
       "    <tr>\n",
       "      <th>2019-12-30</th>\n",
       "      <td>289.459991</td>\n",
       "      <td>292.690002</td>\n",
       "      <td>285.220001</td>\n",
       "      <td>291.519989</td>\n",
       "      <td>289.522614</td>\n",
       "      <td>36028600</td>\n",
       "    </tr>\n",
       "  </tbody>\n",
       "</table>\n",
       "<p>2011 rows × 6 columns</p>\n",
       "</div>"
      ],
      "text/plain": [
       "                  Open        High         Low       Close   Adj Close  \\\n",
       "2012-01-03   58.485714   58.928570   58.428570   58.747143   50.765709   \n",
       "2012-01-04   58.571430   59.240002   58.468571   59.062859   51.038536   \n",
       "2012-01-05   59.278572   59.792858   58.952858   59.718571   51.605175   \n",
       "2012-01-06   59.967144   60.392857   59.888573   60.342857   52.144630   \n",
       "2012-01-09   60.785713   61.107143   60.192856   60.247143   52.061932   \n",
       "...                ...         ...         ...         ...         ...   \n",
       "2019-12-23  280.529999  284.250000  280.369995  284.000000  282.054138   \n",
       "2019-12-24  284.690002  284.890015  282.920013  284.269989  282.322266   \n",
       "2019-12-26  284.820007  289.980011  284.700012  289.910004  287.923645   \n",
       "2019-12-27  291.119995  293.970001  288.119995  289.799988  287.814392   \n",
       "2019-12-30  289.459991  292.690002  285.220001  291.519989  289.522614   \n",
       "\n",
       "              Volume  \n",
       "2012-01-03  75555200  \n",
       "2012-01-04  65005500  \n",
       "2012-01-05  67817400  \n",
       "2012-01-06  79573200  \n",
       "2012-01-09  98506100  \n",
       "...              ...  \n",
       "2019-12-23  24643000  \n",
       "2019-12-24  12119700  \n",
       "2019-12-26  23280300  \n",
       "2019-12-27  36566500  \n",
       "2019-12-30  36028600  \n",
       "\n",
       "[2011 rows x 6 columns]"
      ]
     },
     "execution_count": 132,
     "metadata": {},
     "output_type": "execute_result"
    }
   ],
   "source": [
    "# Setting Datetime as Index\n",
    "dt = df.set_index('Date').rename_axis(None)\n",
    "dt"
   ]
  },
  {
   "cell_type": "code",
   "execution_count": 133,
   "metadata": {},
   "outputs": [
    {
     "data": {
      "text/html": [
       "<div>\n",
       "<style scoped>\n",
       "    .dataframe tbody tr th:only-of-type {\n",
       "        vertical-align: middle;\n",
       "    }\n",
       "\n",
       "    .dataframe tbody tr th {\n",
       "        vertical-align: top;\n",
       "    }\n",
       "\n",
       "    .dataframe thead th {\n",
       "        text-align: right;\n",
       "    }\n",
       "</style>\n",
       "<table border=\"1\" class=\"dataframe\">\n",
       "  <thead>\n",
       "    <tr style=\"text-align: right;\">\n",
       "      <th></th>\n",
       "      <th>Close</th>\n",
       "    </tr>\n",
       "  </thead>\n",
       "  <tbody>\n",
       "    <tr>\n",
       "      <th>2012-01-03</th>\n",
       "      <td>-1.344666</td>\n",
       "    </tr>\n",
       "    <tr>\n",
       "      <th>2012-01-04</th>\n",
       "      <td>-1.338422</td>\n",
       "    </tr>\n",
       "    <tr>\n",
       "      <th>2012-01-05</th>\n",
       "      <td>-1.325455</td>\n",
       "    </tr>\n",
       "    <tr>\n",
       "      <th>2012-01-06</th>\n",
       "      <td>-1.313109</td>\n",
       "    </tr>\n",
       "    <tr>\n",
       "      <th>2012-01-09</th>\n",
       "      <td>-1.315001</td>\n",
       "    </tr>\n",
       "    <tr>\n",
       "      <th>...</th>\n",
       "      <td>...</td>\n",
       "    </tr>\n",
       "    <tr>\n",
       "      <th>2019-12-23</th>\n",
       "      <td>3.109983</td>\n",
       "    </tr>\n",
       "    <tr>\n",
       "      <th>2019-12-24</th>\n",
       "      <td>3.115323</td>\n",
       "    </tr>\n",
       "    <tr>\n",
       "      <th>2019-12-26</th>\n",
       "      <td>3.226861</td>\n",
       "    </tr>\n",
       "    <tr>\n",
       "      <th>2019-12-27</th>\n",
       "      <td>3.224685</td>\n",
       "    </tr>\n",
       "    <tr>\n",
       "      <th>2019-12-30</th>\n",
       "      <td>3.258700</td>\n",
       "    </tr>\n",
       "  </tbody>\n",
       "</table>\n",
       "<p>2011 rows × 1 columns</p>\n",
       "</div>"
      ],
      "text/plain": [
       "               Close\n",
       "2012-01-03 -1.344666\n",
       "2012-01-04 -1.338422\n",
       "2012-01-05 -1.325455\n",
       "2012-01-06 -1.313109\n",
       "2012-01-09 -1.315001\n",
       "...              ...\n",
       "2019-12-23  3.109983\n",
       "2019-12-24  3.115323\n",
       "2019-12-26  3.226861\n",
       "2019-12-27  3.224685\n",
       "2019-12-30  3.258700\n",
       "\n",
       "[2011 rows x 1 columns]"
      ]
     },
     "execution_count": 133,
     "metadata": {},
     "output_type": "execute_result"
    }
   ],
   "source": [
    "# Standardizing the Data\n",
    "from sklearn.preprocessing import StandardScaler\n",
    "\n",
    "# Initializing Standard Scaler\n",
    "scaler = StandardScaler()\n",
    "\n",
    "# Applying Standard Scaler to only necessary features\n",
    "scaled_data = scaler.fit_transform(dt[['Close']])\n",
    "scaled_df = pd.DataFrame(scaled_data, columns=['Close'])\n",
    "scaled_df.index = dt.index\n",
    "scaled_df"
   ]
  },
  {
   "cell_type": "markdown",
   "metadata": {},
   "source": [
    "Standardizing data ensures that the data is on consistent scale, improving the performance and reliability of various algorithms, enhancing interpretability, and preventing numerical issues."
   ]
  },
  {
   "cell_type": "markdown",
   "metadata": {},
   "source": [
    "### Model Building"
   ]
  },
  {
   "cell_type": "markdown",
   "metadata": {},
   "source": [
    "#### ARIMA\n",
    "\n",
    "An ARIMA model is characterized by 3 terms (p, d, q):\n",
    "\n",
    "* p is the order of the AR term. It refers to the number of lags to be used as predictors.\n",
    "* d is the number of differencing required to make the time series stationary\n",
    "* q is the order of the MA term. It refers to the number of lagged forecast errors that should go into the ARIMA model.\n",
    "\n",
    "As seen per the parameters required by the model, any stationary time series can be modeled with ARIMA models.\n",
    "Therefore we have to check if our dataset have stationarity or not."
   ]
  },
  {
   "cell_type": "markdown",
   "metadata": {},
   "source": [
    "#### Stationarity\n",
    "\n",
    "Subtract the previous value from the current value. Now if we just difference once, we might not get a stationary series so we might need to do that multiple times.\n",
    "\n",
    "And the minimum number of differencing operations needed to make the series stationary needs to be imputed into our ARIMA model."
   ]
  },
  {
   "cell_type": "markdown",
   "metadata": {},
   "source": [
    "#### ADF test\n",
    "\n",
    "We will use the Augumented Dickey Fuller (ADF) test to check if the price series is stationary."
   ]
  },
  {
   "cell_type": "markdown",
   "metadata": {},
   "source": [
    "#### Hypothesis Test: To evaluate Stationarity\n",
    "\n",
    "Null Hypothesis: Time series is non-stationary.\\\n",
    "Alternative Hypothesis: Time series is Stationary.\n",
    "\n",
    "So, if the p-value of the test is less than the significance level of 0.05,\n",
    "then we can reject the null hypothesis and infer that the time series is indeed stationary."
   ]
  },
  {
   "cell_type": "code",
   "execution_count": 134,
   "metadata": {},
   "outputs": [
    {
     "name": "stdout",
     "output_type": "stream",
     "text": [
      "ADF Statistic: 1.2193701254377973\n",
      "p-value: 0.9961170178032009\n",
      "\n",
      "Accept Null Hypothesis: Data is non-stationary\n"
     ]
    }
   ],
   "source": [
    "# Hypothesis Test\n",
    "from statsmodels.tsa.stattools import adfuller\n",
    "\n",
    "result = adfuller(scaled_df)\n",
    "print(f'ADF Statistic: {result[0]}')\n",
    "print(f'p-value: {result[1]}')\n",
    "\n",
    "if result[1] > 0.05:\n",
    "    print(\"\\nAccept Null Hypothesis: Data is non-stationary\")\n",
    "else:\n",
    "    print(\"\\nReject Null Hypothesis: Data is stationary\")"
   ]
  },
  {
   "cell_type": "markdown",
   "metadata": {},
   "source": [
    "So, in our case, te p-value is > 0.05,\\\n",
    "we will need to find the order of differencing."
   ]
  },
  {
   "cell_type": "markdown",
   "metadata": {},
   "source": [
    "#### Getting Order of Differencing"
   ]
  },
  {
   "cell_type": "code",
   "execution_count": 135,
   "metadata": {},
   "outputs": [
    {
     "name": "stdout",
     "output_type": "stream",
     "text": [
      "Differencing (d) = 1\n"
     ]
    }
   ],
   "source": [
    "from pmdarima.arima.utils import ndiffs\n",
    "\n",
    "print('Differencing (d) =', ndiffs(scaled_df, test='adf'))"
   ]
  },
  {
   "cell_type": "markdown",
   "metadata": {},
   "source": [
    "#### Getting the order of AutoRegressive Model (q)\n",
    "\n",
    "q is the order of the AR term. It refers to the number of lags to be used as predictors.\n",
    "\n",
    "We can find out the required number of AR terms by inspecting the Partial Autocorrelation (PACF) plot.\n",
    "\n",
    "The partial auto correlation represents the correlation between the series and its lags."
   ]
  },
  {
   "cell_type": "code",
   "execution_count": 136,
   "metadata": {},
   "outputs": [
    {
     "data": {
      "image/png": "[encoded data removed]",
      "text/plain": [
       "<Figure size 1152x288 with 2 Axes>"
      ]
     },
     "metadata": {
      "needs_background": "light"
     },
     "output_type": "display_data"
    }
   ],
   "source": [
    "import matplotlib.pyplot as plt\n",
    "from statsmodels.graphics.tsaplots import plot_pacf\n",
    "\n",
    "diff = scaled_df.diff().dropna()\n",
    "\n",
    "fig, (ax1, ax2) = plt.subplots(1, 2, figsize=(16,4))\n",
    "\n",
    "ax1.plot(diff)\n",
    "ax1.set_title('Differnce once')\n",
    "ax2.set_ylim(0,1)\n",
    "plot_pacf(diff, ax=ax2);"
   ]
  },
  {
   "cell_type": "markdown",
   "metadata": {},
   "source": [
    "We can observe that the PACF lag (q) 2 is significant as it is above the significance line.\n",
    "\n",
    "Therefore, we will consider q = 2."
   ]
  },
  {
   "cell_type": "markdown",
   "metadata": {},
   "source": [
    "#### Getting order of Moving Average.\n",
    "\n",
    "p is the order of the Moving Average (MA) term. It refers to the number of lagged forecast errors that should go into the ARIMA model.\n",
    "\n",
    "We can look at the ACF plot for the number of MA terms."
   ]
  },
  {
   "cell_type": "code",
   "execution_count": 137,
   "metadata": {},
   "outputs": [
    {
     "data": {
      "image/png": "[encoded data removed]",
      "text/plain": [
       "<Figure size 1152x288 with 2 Axes>"
      ]
     },
     "metadata": {
      "needs_background": "light"
     },
     "output_type": "display_data"
    }
   ],
   "source": [
    "from statsmodels.graphics.tsaplots import plot_acf\n",
    "diff = scaled_df.diff().dropna()\n",
    "\n",
    "fig, (ax1, ax2) = plt.subplots(1, 2, figsize=(16,4))\n",
    "\n",
    "ax1.plot(diff)\n",
    "ax1.set_title('Difference once')\n",
    "ax2.set_ylim(0,1)\n",
    "plot_acf(diff, ax=ax2);"
   ]
  },
  {
   "cell_type": "markdown",
   "metadata": {},
   "source": [
    "The ACF lag (p) 1 is significant as it is just at the significance line.\n",
    "\n",
    "So, we will consider p = 1."
   ]
  },
  {
   "cell_type": "markdown",
   "metadata": {},
   "source": [
    "#### Fitting Model"
   ]
  },
  {
   "cell_type": "code",
   "execution_count": 138,
   "metadata": {},
   "outputs": [],
   "source": [
    "# Splitting the dataset\n",
    "train_size = int(len(scaled_df) * 0.80) # 80% split\n",
    "\n",
    "train, test = scaled_df.iloc[:train_size], scaled_df[train_size:]"
   ]
  },
  {
   "cell_type": "code",
   "execution_count": 139,
   "metadata": {},
   "outputs": [
    {
     "data": {
      "text/html": [
       "<table class=\"simpletable\">\n",
       "<caption>SARIMAX Results</caption>\n",
       "<tr>\n",
       "  <th>Dep. Variable:</th>         <td>Close</td>      <th>  No. Observations:  </th>   <td>1608</td>   \n",
       "</tr>\n",
       "<tr>\n",
       "  <th>Model:</th>            <td>ARIMA(1, 1, 2)</td>  <th>  Log Likelihood     </th> <td>3221.232</td> \n",
       "</tr>\n",
       "<tr>\n",
       "  <th>Date:</th>            <td>Wed, 03 Jul 2024</td> <th>  AIC                </th> <td>-6434.465</td>\n",
       "</tr>\n",
       "<tr>\n",
       "  <th>Time:</th>                <td>19:49:09</td>     <th>  BIC                </th> <td>-6412.936</td>\n",
       "</tr>\n",
       "<tr>\n",
       "  <th>Sample:</th>                  <td>0</td>        <th>  HQIC               </th> <td>-6426.472</td>\n",
       "</tr>\n",
       "<tr>\n",
       "  <th></th>                      <td> - 1608</td>     <th>                     </th>     <td> </td>    \n",
       "</tr>\n",
       "<tr>\n",
       "  <th>Covariance Type:</th>        <td>opg</td>       <th>                     </th>     <td> </td>    \n",
       "</tr>\n",
       "</table>\n",
       "<table class=\"simpletable\">\n",
       "<tr>\n",
       "     <td></td>       <th>coef</th>     <th>std err</th>      <th>z</th>      <th>P>|z|</th>  <th>[0.025</th>    <th>0.975]</th>  \n",
       "</tr>\n",
       "<tr>\n",
       "  <th>ar.L1</th>  <td>   -0.1432</td> <td>    0.875</td> <td>   -0.164</td> <td> 0.870</td> <td>   -1.858</td> <td>    1.572</td>\n",
       "</tr>\n",
       "<tr>\n",
       "  <th>ma.L1</th>  <td>    0.1858</td> <td>    0.875</td> <td>    0.212</td> <td> 0.832</td> <td>   -1.530</td> <td>    1.901</td>\n",
       "</tr>\n",
       "<tr>\n",
       "  <th>ma.L2</th>  <td>   -0.0173</td> <td>    0.043</td> <td>   -0.404</td> <td> 0.686</td> <td>   -0.101</td> <td>    0.067</td>\n",
       "</tr>\n",
       "<tr>\n",
       "  <th>sigma2</th> <td>    0.0011</td> <td> 2.25e-05</td> <td>   47.181</td> <td> 0.000</td> <td>    0.001</td> <td>    0.001</td>\n",
       "</tr>\n",
       "</table>\n",
       "<table class=\"simpletable\">\n",
       "<tr>\n",
       "  <th>Ljung-Box (L1) (Q):</th>     <td>0.01</td> <th>  Jarque-Bera (JB):  </th> <td>963.05</td>\n",
       "</tr>\n",
       "<tr>\n",
       "  <th>Prob(Q):</th>                <td>0.94</td> <th>  Prob(JB):          </th>  <td>0.00</td> \n",
       "</tr>\n",
       "<tr>\n",
       "  <th>Heteroskedasticity (H):</th> <td>1.80</td> <th>  Skew:              </th>  <td>-0.03</td>\n",
       "</tr>\n",
       "<tr>\n",
       "  <th>Prob(H) (two-sided):</th>    <td>0.00</td> <th>  Kurtosis:          </th>  <td>6.79</td> \n",
       "</tr>\n",
       "</table><br/><br/>Warnings:<br/>[1] Covariance matrix calculated using the outer product of gradients (complex-step)."
      ],
      "text/latex": [
       "\\begin{center}\n",
       "\\begin{tabular}{lclc}\n",
       "\\toprule\n",
       "\\textbf{Dep. Variable:}          &      Close       & \\textbf{  No. Observations:  } &    1608     \\\\\n",
       "\\textbf{Model:}                  &  ARIMA(1, 1, 2)  & \\textbf{  Log Likelihood     } &  3221.232   \\\\\n",
       "\\textbf{Date:}                   & Wed, 03 Jul 2024 & \\textbf{  AIC                } & -6434.465   \\\\\n",
       "\\textbf{Time:}                   &     19:49:09     & \\textbf{  BIC                } & -6412.936   \\\\\n",
       "\\textbf{Sample:}                 &        0         & \\textbf{  HQIC               } & -6426.472   \\\\\n",
       "\\textbf{}                        &      - 1608      & \\textbf{                     } &             \\\\\n",
       "\\textbf{Covariance Type:}        &       opg        & \\textbf{                     } &             \\\\\n",
       "\\bottomrule\n",
       "\\end{tabular}\n",
       "\\begin{tabular}{lcccccc}\n",
       "                & \\textbf{coef} & \\textbf{std err} & \\textbf{z} & \\textbf{P$> |$z$|$} & \\textbf{[0.025} & \\textbf{0.975]}  \\\\\n",
       "\\midrule\n",
       "\\textbf{ar.L1}  &      -0.1432  &        0.875     &    -0.164  &         0.870        &       -1.858    &        1.572     \\\\\n",
       "\\textbf{ma.L1}  &       0.1858  &        0.875     &     0.212  &         0.832        &       -1.530    &        1.901     \\\\\n",
       "\\textbf{ma.L2}  &      -0.0173  &        0.043     &    -0.404  &         0.686        &       -0.101    &        0.067     \\\\\n",
       "\\textbf{sigma2} &       0.0011  &     2.25e-05     &    47.181  &         0.000        &        0.001    &        0.001     \\\\\n",
       "\\bottomrule\n",
       "\\end{tabular}\n",
       "\\begin{tabular}{lclc}\n",
       "\\textbf{Ljung-Box (L1) (Q):}     & 0.01 & \\textbf{  Jarque-Bera (JB):  } & 963.05  \\\\\n",
       "\\textbf{Prob(Q):}                & 0.94 & \\textbf{  Prob(JB):          } &  0.00   \\\\\n",
       "\\textbf{Heteroskedasticity (H):} & 1.80 & \\textbf{  Skew:              } & -0.03   \\\\\n",
       "\\textbf{Prob(H) (two-sided):}    & 0.00 & \\textbf{  Kurtosis:          } &  6.79   \\\\\n",
       "\\bottomrule\n",
       "\\end{tabular}\n",
       "%\\caption{SARIMAX Results}\n",
       "\\end{center}\n",
       "\n",
       "Warnings: \\newline\n",
       " [1] Covariance matrix calculated using the outer product of gradients (complex-step)."
      ],
      "text/plain": [
       "<class 'statsmodels.iolib.summary.Summary'>\n",
       "\"\"\"\n",
       "                               SARIMAX Results                                \n",
       "==============================================================================\n",
       "Dep. Variable:                  Close   No. Observations:                 1608\n",
       "Model:                 ARIMA(1, 1, 2)   Log Likelihood                3221.232\n",
       "Date:                Wed, 03 Jul 2024   AIC                          -6434.465\n",
       "Time:                        19:49:09   BIC                          -6412.936\n",
       "Sample:                             0   HQIC                         -6426.472\n",
       "                               - 1608                                         \n",
       "Covariance Type:                  opg                                         \n",
       "==============================================================================\n",
       "                 coef    std err          z      P>|z|      [0.025      0.975]\n",
       "------------------------------------------------------------------------------\n",
       "ar.L1         -0.1432      0.875     -0.164      0.870      -1.858       1.572\n",
       "ma.L1          0.1858      0.875      0.212      0.832      -1.530       1.901\n",
       "ma.L2         -0.0173      0.043     -0.404      0.686      -0.101       0.067\n",
       "sigma2         0.0011   2.25e-05     47.181      0.000       0.001       0.001\n",
       "===================================================================================\n",
       "Ljung-Box (L1) (Q):                   0.01   Jarque-Bera (JB):               963.05\n",
       "Prob(Q):                              0.94   Prob(JB):                         0.00\n",
       "Heteroskedasticity (H):               1.80   Skew:                            -0.03\n",
       "Prob(H) (two-sided):                  0.00   Kurtosis:                         6.79\n",
       "===================================================================================\n",
       "\n",
       "Warnings:\n",
       "[1] Covariance matrix calculated using the outer product of gradients (complex-step).\n",
       "\"\"\""
      ]
     },
     "execution_count": 139,
     "metadata": {},
     "output_type": "execute_result"
    }
   ],
   "source": [
    "from statsmodels.tsa.arima.model import ARIMA\n",
    "\n",
    "model = ARIMA(train, order=(1,1,2)) # order=(p,d,q)\n",
    "model_fit = model.fit()\n",
    "model_fit.summary()"
   ]
  },
  {
   "cell_type": "markdown",
   "metadata": {},
   "source": [
    "#### Making Predictions"
   ]
  },
  {
   "cell_type": "code",
   "execution_count": 140,
   "metadata": {},
   "outputs": [],
   "source": [
    "predictions = model_fit.forecast(steps=int(len(test)))"
   ]
  },
  {
   "cell_type": "code",
   "execution_count": 141,
   "metadata": {},
   "outputs": [
    {
     "name": "stdout",
     "output_type": "stream",
     "text": [
      "Mean Absolute Error: 0.5021438811989334\n",
      "Mean Squared Error: 0.4531569809432877\n"
     ]
    }
   ],
   "source": [
    "from sklearn.metrics import mean_absolute_error, mean_squared_error\n",
    "\n",
    "mae = mean_absolute_error(test, predictions)\n",
    "mse = mean_squared_error(test, predictions)\n",
    "\n",
    "print(f'Mean Absolute Error: {mae}')\n",
    "print(f'Mean Squared Error: {mse}')"
   ]
  },
  {
   "cell_type": "code",
   "execution_count": 142,
   "metadata": {},
   "outputs": [
    {
     "data": {
      "image/png": "[encoded data removed]",
      "text/plain": [
       "<Figure size 864x432 with 1 Axes>"
      ]
     },
     "metadata": {
      "needs_background": "light"
     },
     "output_type": "display_data"
    }
   ],
   "source": [
    "forecast = model_fit.forecast(steps=int(len(test)))\n",
    "forecast_values = scaler.inverse_transform(forecast.values.reshape(-1,1))\n",
    "forecasts_df = pd.DataFrame(forecast_values, index=test.index, columns=['Forecast'])\n",
    "\n",
    "original_train = dt.iloc[:train_size]\n",
    "original_test = dt.iloc[train_size:]\n",
    "\n",
    "\n",
    "# Plotting forecast\n",
    "plt.figure(figsize=(12, 6))\n",
    "plt.plot(original_train.index, original_train['Close'], label='Train')\n",
    "plt.plot(original_test.index, original_test['Close'], label='Test')\n",
    "plt.plot(forecasts_df.index, forecasts_df['Forecast'], label='Forecast')\n",
    "plt.title('Forecast')\n",
    "plt.legend()\n",
    "plt.show()\n"
   ]
  },
  {
   "cell_type": "markdown",
   "metadata": {},
   "source": [
    "### Model Evaluation"
   ]
  },
  {
   "cell_type": "markdown",
   "metadata": {},
   "source": [
    "Checking the residual to ensure they behave like white noise."
   ]
  },
  {
   "cell_type": "code",
   "execution_count": 143,
   "metadata": {},
   "outputs": [
    {
     "data": {
      "image/png": "[encoded data removed]",
      "text/plain": [
       "<Figure size 1152x288 with 2 Axes>"
      ]
     },
     "metadata": {
      "needs_background": "light"
     },
     "output_type": "display_data"
    }
   ],
   "source": [
    "residuals = model_fit.resid\n",
    "\n",
    "fig, (ax1, ax2) = plt.subplots(1, 2, figsize=(16,4))\n",
    "\n",
    "ax1.plot(residuals)\n",
    "ax1.set_title('Residuals')\n",
    "ax2.set_ylim(0,1)\n",
    "plot_acf(residuals, lags=30, ax=ax2);"
   ]
  },
  {
   "cell_type": "markdown",
   "metadata": {},
   "source": [
    "#### Making Forecasts"
   ]
  },
  {
   "cell_type": "code",
   "execution_count": 144,
   "metadata": {},
   "outputs": [
    {
     "data": {
      "text/html": [
       "<table class=\"simpletable\">\n",
       "<caption>SARIMAX Results</caption>\n",
       "<tr>\n",
       "  <th>Dep. Variable:</th>         <td>Close</td>      <th>  No. Observations:  </th>   <td>2011</td>   \n",
       "</tr>\n",
       "<tr>\n",
       "  <th>Model:</th>            <td>ARIMA(1, 1, 2)</td>  <th>  Log Likelihood     </th> <td>3516.372</td> \n",
       "</tr>\n",
       "<tr>\n",
       "  <th>Date:</th>            <td>Wed, 03 Jul 2024</td> <th>  AIC                </th> <td>-7024.745</td>\n",
       "</tr>\n",
       "<tr>\n",
       "  <th>Time:</th>                <td>19:49:10</td>     <th>  BIC                </th> <td>-7002.321</td>\n",
       "</tr>\n",
       "<tr>\n",
       "  <th>Sample:</th>                  <td>0</td>        <th>  HQIC               </th> <td>-7016.513</td>\n",
       "</tr>\n",
       "<tr>\n",
       "  <th></th>                      <td> - 2011</td>     <th>                     </th>     <td> </td>    \n",
       "</tr>\n",
       "<tr>\n",
       "  <th>Covariance Type:</th>        <td>opg</td>       <th>                     </th>     <td> </td>    \n",
       "</tr>\n",
       "</table>\n",
       "<table class=\"simpletable\">\n",
       "<tr>\n",
       "     <td></td>       <th>coef</th>     <th>std err</th>      <th>z</th>      <th>P>|z|</th>  <th>[0.025</th>    <th>0.975]</th>  \n",
       "</tr>\n",
       "<tr>\n",
       "  <th>ar.L1</th>  <td>    0.2497</td> <td>    0.330</td> <td>    0.756</td> <td> 0.450</td> <td>   -0.398</td> <td>    0.897</td>\n",
       "</tr>\n",
       "<tr>\n",
       "  <th>ma.L1</th>  <td>   -0.2358</td> <td>    0.331</td> <td>   -0.712</td> <td> 0.477</td> <td>   -0.885</td> <td>    0.414</td>\n",
       "</tr>\n",
       "<tr>\n",
       "  <th>ma.L2</th>  <td>   -0.0476</td> <td>    0.017</td> <td>   -2.864</td> <td> 0.004</td> <td>   -0.080</td> <td>   -0.015</td>\n",
       "</tr>\n",
       "<tr>\n",
       "  <th>sigma2</th> <td>    0.0018</td> <td> 2.79e-05</td> <td>   63.475</td> <td> 0.000</td> <td>    0.002</td> <td>    0.002</td>\n",
       "</tr>\n",
       "</table>\n",
       "<table class=\"simpletable\">\n",
       "<tr>\n",
       "  <th>Ljung-Box (L1) (Q):</th>     <td>0.01</td> <th>  Jarque-Bera (JB):  </th> <td>3565.65</td>\n",
       "</tr>\n",
       "<tr>\n",
       "  <th>Prob(Q):</th>                <td>0.91</td> <th>  Prob(JB):          </th>  <td>0.00</td>  \n",
       "</tr>\n",
       "<tr>\n",
       "  <th>Heteroskedasticity (H):</th> <td>5.22</td> <th>  Skew:              </th>  <td>-0.46</td> \n",
       "</tr>\n",
       "<tr>\n",
       "  <th>Prob(H) (two-sided):</th>    <td>0.00</td> <th>  Kurtosis:          </th>  <td>9.46</td>  \n",
       "</tr>\n",
       "</table><br/><br/>Warnings:<br/>[1] Covariance matrix calculated using the outer product of gradients (complex-step)."
      ],
      "text/latex": [
       "\\begin{center}\n",
       "\\begin{tabular}{lclc}\n",
       "\\toprule\n",
       "\\textbf{Dep. Variable:}          &      Close       & \\textbf{  No. Observations:  } &    2011     \\\\\n",
       "\\textbf{Model:}                  &  ARIMA(1, 1, 2)  & \\textbf{  Log Likelihood     } &  3516.372   \\\\\n",
       "\\textbf{Date:}                   & Wed, 03 Jul 2024 & \\textbf{  AIC                } & -7024.745   \\\\\n",
       "\\textbf{Time:}                   &     19:49:10     & \\textbf{  BIC                } & -7002.321   \\\\\n",
       "\\textbf{Sample:}                 &        0         & \\textbf{  HQIC               } & -7016.513   \\\\\n",
       "\\textbf{}                        &      - 2011      & \\textbf{                     } &             \\\\\n",
       "\\textbf{Covariance Type:}        &       opg        & \\textbf{                     } &             \\\\\n",
       "\\bottomrule\n",
       "\\end{tabular}\n",
       "\\begin{tabular}{lcccccc}\n",
       "                & \\textbf{coef} & \\textbf{std err} & \\textbf{z} & \\textbf{P$> |$z$|$} & \\textbf{[0.025} & \\textbf{0.975]}  \\\\\n",
       "\\midrule\n",
       "\\textbf{ar.L1}  &       0.2497  &        0.330     &     0.756  &         0.450        &       -0.398    &        0.897     \\\\\n",
       "\\textbf{ma.L1}  &      -0.2358  &        0.331     &    -0.712  &         0.477        &       -0.885    &        0.414     \\\\\n",
       "\\textbf{ma.L2}  &      -0.0476  &        0.017     &    -2.864  &         0.004        &       -0.080    &       -0.015     \\\\\n",
       "\\textbf{sigma2} &       0.0018  &     2.79e-05     &    63.475  &         0.000        &        0.002    &        0.002     \\\\\n",
       "\\bottomrule\n",
       "\\end{tabular}\n",
       "\\begin{tabular}{lclc}\n",
       "\\textbf{Ljung-Box (L1) (Q):}     & 0.01 & \\textbf{  Jarque-Bera (JB):  } & 3565.65  \\\\\n",
       "\\textbf{Prob(Q):}                & 0.91 & \\textbf{  Prob(JB):          } &   0.00   \\\\\n",
       "\\textbf{Heteroskedasticity (H):} & 5.22 & \\textbf{  Skew:              } &  -0.46   \\\\\n",
       "\\textbf{Prob(H) (two-sided):}    & 0.00 & \\textbf{  Kurtosis:          } &   9.46   \\\\\n",
       "\\bottomrule\n",
       "\\end{tabular}\n",
       "%\\caption{SARIMAX Results}\n",
       "\\end{center}\n",
       "\n",
       "Warnings: \\newline\n",
       " [1] Covariance matrix calculated using the outer product of gradients (complex-step)."
      ],
      "text/plain": [
       "<class 'statsmodels.iolib.summary.Summary'>\n",
       "\"\"\"\n",
       "                               SARIMAX Results                                \n",
       "==============================================================================\n",
       "Dep. Variable:                  Close   No. Observations:                 2011\n",
       "Model:                 ARIMA(1, 1, 2)   Log Likelihood                3516.372\n",
       "Date:                Wed, 03 Jul 2024   AIC                          -7024.745\n",
       "Time:                        19:49:10   BIC                          -7002.321\n",
       "Sample:                             0   HQIC                         -7016.513\n",
       "                               - 2011                                         \n",
       "Covariance Type:                  opg                                         \n",
       "==============================================================================\n",
       "                 coef    std err          z      P>|z|      [0.025      0.975]\n",
       "------------------------------------------------------------------------------\n",
       "ar.L1          0.2497      0.330      0.756      0.450      -0.398       0.897\n",
       "ma.L1         -0.2358      0.331     -0.712      0.477      -0.885       0.414\n",
       "ma.L2         -0.0476      0.017     -2.864      0.004      -0.080      -0.015\n",
       "sigma2         0.0018   2.79e-05     63.475      0.000       0.002       0.002\n",
       "===================================================================================\n",
       "Ljung-Box (L1) (Q):                   0.01   Jarque-Bera (JB):              3565.65\n",
       "Prob(Q):                              0.91   Prob(JB):                         0.00\n",
       "Heteroskedasticity (H):               5.22   Skew:                            -0.46\n",
       "Prob(H) (two-sided):                  0.00   Kurtosis:                         9.46\n",
       "===================================================================================\n",
       "\n",
       "Warnings:\n",
       "[1] Covariance matrix calculated using the outer product of gradients (complex-step).\n",
       "\"\"\""
      ]
     },
     "execution_count": 144,
     "metadata": {},
     "output_type": "execute_result"
    }
   ],
   "source": [
    "model = ARIMA(scaled_df, order=(1,1,2)) # order=(p,d,q)\n",
    "model_fit = model.fit()\n",
    "model_fit.summary()"
   ]
  },
  {
   "cell_type": "code",
   "execution_count": 145,
   "metadata": {},
   "outputs": [
    {
     "data": {
      "image/png": "[encoded data removed]",
      "text/plain": [
       "<Figure size 864x432 with 1 Axes>"
      ]
     },
     "metadata": {
      "needs_background": "light"
     },
     "output_type": "display_data"
    }
   ],
   "source": [
    "forecast_steps = 30\n",
    "forecast = model_fit.forecast(steps=forecast_steps)\n",
    "forecast_values = scaler.inverse_transform(forecast.values.reshape(-1,1))\n",
    "\n",
    "forecasts_dates = pd.date_range(\n",
    "    start = dt.index[-1] + pd.Timedelta(days=1),\n",
    "    periods=forecast_steps,\n",
    "    freq='D'\n",
    ")\n",
    "forecasts_df = pd.DataFrame(forecast_values, index=forecasts_dates, columns=['Forecast'])\n",
    "\n",
    "# Plotting forecast\n",
    "plt.figure(figsize=(12, 6))\n",
    "plt.plot(dt.index, dt['Close'], label='Original')\n",
    "plt.plot(forecasts_df.index, forecasts_df['Forecast'], label='Forecast')\n",
    "plt.title('Forecast')\n",
    "plt.xlabel('Date')\n",
    "plt.ylabel('Price')\n",
    "plt.legend()\n",
    "plt.show()"
   ]
  },
  {
   "cell_type": "markdown",
   "metadata": {},
   "source": [
    "### Hyperparameter Tuning"
   ]
  },
  {
   "cell_type": "markdown",
   "metadata": {},
   "source": [
    "Using pmdarima"
   ]
  },
  {
   "cell_type": "code",
   "execution_count": 146,
   "metadata": {},
   "outputs": [],
   "source": [
    "import pmdarima as pm"
   ]
  },
  {
   "cell_type": "code",
   "execution_count": 147,
   "metadata": {},
   "outputs": [
    {
     "name": "stdout",
     "output_type": "stream",
     "text": [
      "Performing stepwise search to minimize aic\n",
      " ARIMA(1,1,1)(0,0,0)[0] intercept   : AIC=-6437.327, Time=0.35 sec\n",
      " ARIMA(0,1,0)(0,0,0)[0] intercept   : AIC=-6438.358, Time=0.12 sec\n",
      " ARIMA(1,1,0)(0,0,0)[0] intercept   : AIC=-6438.867, Time=0.29 sec\n",
      " ARIMA(0,1,1)(0,0,0)[0] intercept   : AIC=-6439.027, Time=0.37 sec\n",
      " ARIMA(0,1,0)(0,0,0)[0]             : AIC=-6436.516, Time=0.16 sec\n",
      " ARIMA(0,1,2)(0,0,0)[0] intercept   : AIC=-6438.271, Time=0.49 sec\n",
      " ARIMA(1,1,2)(0,0,0)[0] intercept   : AIC=-6436.131, Time=0.32 sec\n",
      " ARIMA(0,1,1)(0,0,0)[0]             : AIC=-6437.484, Time=0.09 sec\n",
      "\n",
      "Best model:  ARIMA(0,1,1)(0,0,0)[0] intercept\n",
      "Total fit time: 2.211 seconds\n"
     ]
    },
    {
     "data": {
      "text/html": [
       "<table class=\"simpletable\">\n",
       "<caption>SARIMAX Results</caption>\n",
       "<tr>\n",
       "  <th>Dep. Variable:</th>           <td>y</td>        <th>  No. Observations:  </th>   <td>1608</td>   \n",
       "</tr>\n",
       "<tr>\n",
       "  <th>Model:</th>           <td>SARIMAX(0, 1, 1)</td> <th>  Log Likelihood     </th> <td>3222.513</td> \n",
       "</tr>\n",
       "<tr>\n",
       "  <th>Date:</th>            <td>Wed, 03 Jul 2024</td> <th>  AIC                </th> <td>-6439.027</td>\n",
       "</tr>\n",
       "<tr>\n",
       "  <th>Time:</th>                <td>19:49:13</td>     <th>  BIC                </th> <td>-6422.881</td>\n",
       "</tr>\n",
       "<tr>\n",
       "  <th>Sample:</th>                  <td>0</td>        <th>  HQIC               </th> <td>-6433.033</td>\n",
       "</tr>\n",
       "<tr>\n",
       "  <th></th>                      <td> - 1608</td>     <th>                     </th>     <td> </td>    \n",
       "</tr>\n",
       "<tr>\n",
       "  <th>Covariance Type:</th>        <td>opg</td>       <th>                     </th>     <td> </td>    \n",
       "</tr>\n",
       "</table>\n",
       "<table class=\"simpletable\">\n",
       "<tr>\n",
       "      <td></td>         <th>coef</th>     <th>std err</th>      <th>z</th>      <th>P>|z|</th>  <th>[0.025</th>    <th>0.975]</th>  \n",
       "</tr>\n",
       "<tr>\n",
       "  <th>intercept</th> <td>    0.0016</td> <td>    0.001</td> <td>    1.875</td> <td> 0.061</td> <td>-7.26e-05</td> <td>    0.003</td>\n",
       "</tr>\n",
       "<tr>\n",
       "  <th>ma.L1</th>     <td>    0.0420</td> <td>    0.019</td> <td>    2.205</td> <td> 0.027</td> <td>    0.005</td> <td>    0.079</td>\n",
       "</tr>\n",
       "<tr>\n",
       "  <th>sigma2</th>    <td>    0.0011</td> <td>  2.2e-05</td> <td>   48.246</td> <td> 0.000</td> <td>    0.001</td> <td>    0.001</td>\n",
       "</tr>\n",
       "</table>\n",
       "<table class=\"simpletable\">\n",
       "<tr>\n",
       "  <th>Ljung-Box (L1) (Q):</th>     <td>0.00</td> <th>  Jarque-Bera (JB):  </th> <td>964.38</td>\n",
       "</tr>\n",
       "<tr>\n",
       "  <th>Prob(Q):</th>                <td>0.96</td> <th>  Prob(JB):          </th>  <td>0.00</td> \n",
       "</tr>\n",
       "<tr>\n",
       "  <th>Heteroskedasticity (H):</th> <td>1.79</td> <th>  Skew:              </th>  <td>-0.02</td>\n",
       "</tr>\n",
       "<tr>\n",
       "  <th>Prob(H) (two-sided):</th>    <td>0.00</td> <th>  Kurtosis:          </th>  <td>6.79</td> \n",
       "</tr>\n",
       "</table><br/><br/>Warnings:<br/>[1] Covariance matrix calculated using the outer product of gradients (complex-step)."
      ],
      "text/latex": [
       "\\begin{center}\n",
       "\\begin{tabular}{lclc}\n",
       "\\toprule\n",
       "\\textbf{Dep. Variable:}          &        y         & \\textbf{  No. Observations:  } &    1608     \\\\\n",
       "\\textbf{Model:}                  & SARIMAX(0, 1, 1) & \\textbf{  Log Likelihood     } &  3222.513   \\\\\n",
       "\\textbf{Date:}                   & Wed, 03 Jul 2024 & \\textbf{  AIC                } & -6439.027   \\\\\n",
       "\\textbf{Time:}                   &     19:49:13     & \\textbf{  BIC                } & -6422.881   \\\\\n",
       "\\textbf{Sample:}                 &        0         & \\textbf{  HQIC               } & -6433.033   \\\\\n",
       "\\textbf{}                        &      - 1608      & \\textbf{                     } &             \\\\\n",
       "\\textbf{Covariance Type:}        &       opg        & \\textbf{                     } &             \\\\\n",
       "\\bottomrule\n",
       "\\end{tabular}\n",
       "\\begin{tabular}{lcccccc}\n",
       "                   & \\textbf{coef} & \\textbf{std err} & \\textbf{z} & \\textbf{P$> |$z$|$} & \\textbf{[0.025} & \\textbf{0.975]}  \\\\\n",
       "\\midrule\n",
       "\\textbf{intercept} &       0.0016  &        0.001     &     1.875  &         0.061        &    -7.26e-05    &        0.003     \\\\\n",
       "\\textbf{ma.L1}     &       0.0420  &        0.019     &     2.205  &         0.027        &        0.005    &        0.079     \\\\\n",
       "\\textbf{sigma2}    &       0.0011  &      2.2e-05     &    48.246  &         0.000        &        0.001    &        0.001     \\\\\n",
       "\\bottomrule\n",
       "\\end{tabular}\n",
       "\\begin{tabular}{lclc}\n",
       "\\textbf{Ljung-Box (L1) (Q):}     & 0.00 & \\textbf{  Jarque-Bera (JB):  } & 964.38  \\\\\n",
       "\\textbf{Prob(Q):}                & 0.96 & \\textbf{  Prob(JB):          } &  0.00   \\\\\n",
       "\\textbf{Heteroskedasticity (H):} & 1.79 & \\textbf{  Skew:              } & -0.02   \\\\\n",
       "\\textbf{Prob(H) (two-sided):}    & 0.00 & \\textbf{  Kurtosis:          } &  6.79   \\\\\n",
       "\\bottomrule\n",
       "\\end{tabular}\n",
       "%\\caption{SARIMAX Results}\n",
       "\\end{center}\n",
       "\n",
       "Warnings: \\newline\n",
       " [1] Covariance matrix calculated using the outer product of gradients (complex-step)."
      ],
      "text/plain": [
       "<class 'statsmodels.iolib.summary.Summary'>\n",
       "\"\"\"\n",
       "                               SARIMAX Results                                \n",
       "==============================================================================\n",
       "Dep. Variable:                      y   No. Observations:                 1608\n",
       "Model:               SARIMAX(0, 1, 1)   Log Likelihood                3222.513\n",
       "Date:                Wed, 03 Jul 2024   AIC                          -6439.027\n",
       "Time:                        19:49:13   BIC                          -6422.881\n",
       "Sample:                             0   HQIC                         -6433.033\n",
       "                               - 1608                                         \n",
       "Covariance Type:                  opg                                         \n",
       "==============================================================================\n",
       "                 coef    std err          z      P>|z|      [0.025      0.975]\n",
       "------------------------------------------------------------------------------\n",
       "intercept      0.0016      0.001      1.875      0.061   -7.26e-05       0.003\n",
       "ma.L1          0.0420      0.019      2.205      0.027       0.005       0.079\n",
       "sigma2         0.0011    2.2e-05     48.246      0.000       0.001       0.001\n",
       "===================================================================================\n",
       "Ljung-Box (L1) (Q):                   0.00   Jarque-Bera (JB):               964.38\n",
       "Prob(Q):                              0.96   Prob(JB):                         0.00\n",
       "Heteroskedasticity (H):               1.79   Skew:                            -0.02\n",
       "Prob(H) (two-sided):                  0.00   Kurtosis:                         6.79\n",
       "===================================================================================\n",
       "\n",
       "Warnings:\n",
       "[1] Covariance matrix calculated using the outer product of gradients (complex-step).\n",
       "\"\"\""
      ]
     },
     "execution_count": 147,
     "metadata": {},
     "output_type": "execute_result"
    }
   ],
   "source": [
    "# Performing grid search for ARIMA\n",
    "\n",
    "optimized_model = pm.auto_arima(\n",
    "    train,\n",
    "    start_p=1,\n",
    "    start_q=1,\n",
    "    test='adf', # using adf test to find optimal 'd'\n",
    "    max_p=5,\n",
    "    max_q=5,\n",
    "    m=1,\n",
    "    start_P=0,\n",
    "    seasonal=False,\n",
    "    d=None,\n",
    "    D=0,\n",
    "    trace=True,\n",
    "    error_action='ignore',\n",
    "    suppress_warnings=True,\n",
    "    stepwise=True\n",
    ")\n",
    "\n",
    "optimized_model.summary()"
   ]
  },
  {
   "cell_type": "code",
   "execution_count": 148,
   "metadata": {},
   "outputs": [
    {
     "name": "stdout",
     "output_type": "stream",
     "text": [
      "Best ARIMA order (p,d,q): (0, 1, 1)\n"
     ]
    }
   ],
   "source": [
    "order = optimized_model.order\n",
    "print(f'Best ARIMA order (p,d,q): {order}')"
   ]
  },
  {
   "cell_type": "markdown",
   "metadata": {},
   "source": [
    "#### Building Model using Optimized ARIMA Model"
   ]
  },
  {
   "cell_type": "code",
   "execution_count": 149,
   "metadata": {},
   "outputs": [
    {
     "data": {
      "text/html": [
       "<table class=\"simpletable\">\n",
       "<caption>SARIMAX Results</caption>\n",
       "<tr>\n",
       "  <th>Dep. Variable:</th>         <td>Close</td>      <th>  No. Observations:  </th>   <td>2011</td>   \n",
       "</tr>\n",
       "<tr>\n",
       "  <th>Model:</th>            <td>ARIMA(0, 1, 1)</td>  <th>  Log Likelihood     </th> <td>3514.047</td> \n",
       "</tr>\n",
       "<tr>\n",
       "  <th>Date:</th>            <td>Wed, 03 Jul 2024</td> <th>  AIC                </th> <td>-7024.094</td>\n",
       "</tr>\n",
       "<tr>\n",
       "  <th>Time:</th>                <td>19:49:13</td>     <th>  BIC                </th> <td>-7012.882</td>\n",
       "</tr>\n",
       "<tr>\n",
       "  <th>Sample:</th>                  <td>0</td>        <th>  HQIC               </th> <td>-7019.978</td>\n",
       "</tr>\n",
       "<tr>\n",
       "  <th></th>                      <td> - 2011</td>     <th>                     </th>     <td> </td>    \n",
       "</tr>\n",
       "<tr>\n",
       "  <th>Covariance Type:</th>        <td>opg</td>       <th>                     </th>     <td> </td>    \n",
       "</tr>\n",
       "</table>\n",
       "<table class=\"simpletable\">\n",
       "<tr>\n",
       "     <td></td>       <th>coef</th>     <th>std err</th>      <th>z</th>      <th>P>|z|</th>  <th>[0.025</th>    <th>0.975]</th>  \n",
       "</tr>\n",
       "<tr>\n",
       "  <th>ma.L1</th>  <td>    0.0138</td> <td>    0.015</td> <td>    0.927</td> <td> 0.354</td> <td>   -0.015</td> <td>    0.043</td>\n",
       "</tr>\n",
       "<tr>\n",
       "  <th>sigma2</th> <td>    0.0018</td> <td> 2.73e-05</td> <td>   65.021</td> <td> 0.000</td> <td>    0.002</td> <td>    0.002</td>\n",
       "</tr>\n",
       "</table>\n",
       "<table class=\"simpletable\">\n",
       "<tr>\n",
       "  <th>Ljung-Box (L1) (Q):</th>     <td>0.01</td> <th>  Jarque-Bera (JB):  </th> <td>3673.16</td>\n",
       "</tr>\n",
       "<tr>\n",
       "  <th>Prob(Q):</th>                <td>0.93</td> <th>  Prob(JB):          </th>  <td>0.00</td>  \n",
       "</tr>\n",
       "<tr>\n",
       "  <th>Heteroskedasticity (H):</th> <td>5.23</td> <th>  Skew:              </th>  <td>-0.44</td> \n",
       "</tr>\n",
       "<tr>\n",
       "  <th>Prob(H) (two-sided):</th>    <td>0.00</td> <th>  Kurtosis:          </th>  <td>9.56</td>  \n",
       "</tr>\n",
       "</table><br/><br/>Warnings:<br/>[1] Covariance matrix calculated using the outer product of gradients (complex-step)."
      ],
      "text/latex": [
       "\\begin{center}\n",
       "\\begin{tabular}{lclc}\n",
       "\\toprule\n",
       "\\textbf{Dep. Variable:}          &      Close       & \\textbf{  No. Observations:  } &    2011     \\\\\n",
       "\\textbf{Model:}                  &  ARIMA(0, 1, 1)  & \\textbf{  Log Likelihood     } &  3514.047   \\\\\n",
       "\\textbf{Date:}                   & Wed, 03 Jul 2024 & \\textbf{  AIC                } & -7024.094   \\\\\n",
       "\\textbf{Time:}                   &     19:49:13     & \\textbf{  BIC                } & -7012.882   \\\\\n",
       "\\textbf{Sample:}                 &        0         & \\textbf{  HQIC               } & -7019.978   \\\\\n",
       "\\textbf{}                        &      - 2011      & \\textbf{                     } &             \\\\\n",
       "\\textbf{Covariance Type:}        &       opg        & \\textbf{                     } &             \\\\\n",
       "\\bottomrule\n",
       "\\end{tabular}\n",
       "\\begin{tabular}{lcccccc}\n",
       "                & \\textbf{coef} & \\textbf{std err} & \\textbf{z} & \\textbf{P$> |$z$|$} & \\textbf{[0.025} & \\textbf{0.975]}  \\\\\n",
       "\\midrule\n",
       "\\textbf{ma.L1}  &       0.0138  &        0.015     &     0.927  &         0.354        &       -0.015    &        0.043     \\\\\n",
       "\\textbf{sigma2} &       0.0018  &     2.73e-05     &    65.021  &         0.000        &        0.002    &        0.002     \\\\\n",
       "\\bottomrule\n",
       "\\end{tabular}\n",
       "\\begin{tabular}{lclc}\n",
       "\\textbf{Ljung-Box (L1) (Q):}     & 0.01 & \\textbf{  Jarque-Bera (JB):  } & 3673.16  \\\\\n",
       "\\textbf{Prob(Q):}                & 0.93 & \\textbf{  Prob(JB):          } &   0.00   \\\\\n",
       "\\textbf{Heteroskedasticity (H):} & 5.23 & \\textbf{  Skew:              } &  -0.44   \\\\\n",
       "\\textbf{Prob(H) (two-sided):}    & 0.00 & \\textbf{  Kurtosis:          } &   9.56   \\\\\n",
       "\\bottomrule\n",
       "\\end{tabular}\n",
       "%\\caption{SARIMAX Results}\n",
       "\\end{center}\n",
       "\n",
       "Warnings: \\newline\n",
       " [1] Covariance matrix calculated using the outer product of gradients (complex-step)."
      ],
      "text/plain": [
       "<class 'statsmodels.iolib.summary.Summary'>\n",
       "\"\"\"\n",
       "                               SARIMAX Results                                \n",
       "==============================================================================\n",
       "Dep. Variable:                  Close   No. Observations:                 2011\n",
       "Model:                 ARIMA(0, 1, 1)   Log Likelihood                3514.047\n",
       "Date:                Wed, 03 Jul 2024   AIC                          -7024.094\n",
       "Time:                        19:49:13   BIC                          -7012.882\n",
       "Sample:                             0   HQIC                         -7019.978\n",
       "                               - 2011                                         \n",
       "Covariance Type:                  opg                                         \n",
       "==============================================================================\n",
       "                 coef    std err          z      P>|z|      [0.025      0.975]\n",
       "------------------------------------------------------------------------------\n",
       "ma.L1          0.0138      0.015      0.927      0.354      -0.015       0.043\n",
       "sigma2         0.0018   2.73e-05     65.021      0.000       0.002       0.002\n",
       "===================================================================================\n",
       "Ljung-Box (L1) (Q):                   0.01   Jarque-Bera (JB):              3673.16\n",
       "Prob(Q):                              0.93   Prob(JB):                         0.00\n",
       "Heteroskedasticity (H):               5.23   Skew:                            -0.44\n",
       "Prob(H) (two-sided):                  0.00   Kurtosis:                         9.56\n",
       "===================================================================================\n",
       "\n",
       "Warnings:\n",
       "[1] Covariance matrix calculated using the outer product of gradients (complex-step).\n",
       "\"\"\""
      ]
     },
     "execution_count": 149,
     "metadata": {},
     "output_type": "execute_result"
    }
   ],
   "source": [
    "final_model = ARIMA(scaled_df, order=(0,1,1)) # order=(p,d,q)\n",
    "final_model_fit = final_model.fit()\n",
    "final_model_fit.summary()"
   ]
  },
  {
   "cell_type": "markdown",
   "metadata": {},
   "source": [
    "#### Making Forecasts"
   ]
  },
  {
   "cell_type": "code",
   "execution_count": 150,
   "metadata": {},
   "outputs": [
    {
     "data": {
      "image/png": "[encoded data removed]",
      "text/plain": [
       "<Figure size 864x432 with 1 Axes>"
      ]
     },
     "metadata": {
      "needs_background": "light"
     },
     "output_type": "display_data"
    }
   ],
   "source": [
    "forecast_steps = 30\n",
    "forecast = final_model_fit.forecast(steps=forecast_steps)\n",
    "forecast_values = scaler.inverse_transform(forecast.values.reshape(-1,1))\n",
    "\n",
    "forecasts_dates = pd.date_range(\n",
    "    start = dt.index[-1] + pd.Timedelta(days=1),\n",
    "    periods=forecast_steps,\n",
    "    freq='D'\n",
    ")\n",
    "forecasts_df = pd.DataFrame(forecast_values, index=forecasts_dates, columns=['Forecast'])\n",
    "\n",
    "# Plotting forecast\n",
    "plt.figure(figsize=(12, 6))\n",
    "plt.plot(dt.index, dt['Close'], label='Original')\n",
    "plt.plot(forecasts_df.index, forecasts_df['Forecast'], label='Forecast')\n",
    "plt.title('Forecast')\n",
    "plt.legend()\n",
    "plt.show()"
   ]
  }
 ],
 "metadata": {
  "kernelspec": {
   "display_name": "TimeSeries_Analysis",
   "language": "python",
   "name": "python3"
  },
  "language_info": {
   "codemirror_mode": {
    "name": "ipython",
    "version": 3
   },
   "file_extension": ".py",
   "mimetype": "text/x-python",
   "name": "python",
   "nbconvert_exporter": "python",
   "pygments_lexer": "ipython3",
   "version": "3.9.18"
  }
 },
 "nbformat": 4,
 "nbformat_minor": 2
}
